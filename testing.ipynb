{
 "cells": [
  {
   "cell_type": "code",
   "execution_count": 1,
   "metadata": {},
   "outputs": [],
   "source": [
    "from vercel_storage import blob\n",
    "import os"
   ]
  },
  {
   "cell_type": "code",
   "execution_count": 8,
   "metadata": {},
   "outputs": [],
   "source": [
    "BLOB_READ_WRITE_TOKEN=\"vercel_blob_rw_fWlfyE0oyYeeZuNH_bD7wWuxpmBH2A4UwiOfvFKqRnMeIS8\""
   ]
  },
  {
   "cell_type": "code",
   "execution_count": 10,
   "metadata": {},
   "outputs": [],
   "source": [
    "o = {'token': BLOB_READ_WRITE_TOKEN}"
   ]
  },
  {
   "cell_type": "code",
   "execution_count": 11,
   "metadata": {},
   "outputs": [],
   "source": [
    "my_file = 'dummy.txt'\n",
    "with open(my_file, 'rb') as fp:\n",
    "    resp = blob.put(\n",
    "        pathname=my_file,\n",
    "        body=fp.read(),\n",
    "        options = o\n",
    "    )"
   ]
  },
  {
   "cell_type": "code",
   "execution_count": 19,
   "metadata": {},
   "outputs": [
    {
     "ename": "APIResponseError",
     "evalue": "Oops, something went wrong: {'error': {'code': 'bad_request', 'message': 'Url is malformed'}}",
     "output_type": "error",
     "traceback": [
      "\u001b[0;31m---------------------------------------------------------------------------\u001b[0m",
      "\u001b[0;31mAPIResponseError\u001b[0m                          Traceback (most recent call last)",
      "\u001b[1;32m/Users/arshshah/Desktop/Coding/Personal Projects/spanishProj/webPage/spanishProjFlask/audio_gui/testing.ipynb Cell 5\u001b[0m line \u001b[0;36m1\n\u001b[0;32m----> <a href='vscode-notebook-cell:/Users/arshshah/Desktop/Coding/Personal%20Projects/spanishProj/webPage/spanishProjFlask/audio_gui/testing.ipynb#W5sZmlsZQ%3D%3D?line=0'>1</a>\u001b[0m blob\u001b[39m.\u001b[39;49mhead(\u001b[39m\"\u001b[39;49m\u001b[39mdummy.txt\u001b[39;49m\u001b[39m\"\u001b[39;49m, options \u001b[39m=\u001b[39;49mo)\n",
      "File \u001b[0;32m~/miniconda3/envs/webdev/lib/python3.12/site-packages/vercel_storage/blob.py:170\u001b[0m, in \u001b[0;36mhead\u001b[0;34m(url, options)\u001b[0m\n\u001b[1;32m    168\u001b[0m dump_headers(options, headers)\n\u001b[1;32m    169\u001b[0m _resp \u001b[39m=\u001b[39m requests\u001b[39m.\u001b[39mget(\u001b[39mf\u001b[39m\u001b[39m\"\u001b[39m\u001b[39m{\u001b[39;00mVERCEL_API_URL\u001b[39m}\u001b[39;00m\u001b[39m\"\u001b[39m, headers\u001b[39m=\u001b[39mheaders, params\u001b[39m=\u001b[39m{\u001b[39m\"\u001b[39m\u001b[39murl\u001b[39m\u001b[39m\"\u001b[39m: url})\n\u001b[0;32m--> 170\u001b[0m \u001b[39mreturn\u001b[39;00m _handle_response(_resp)\n",
      "File \u001b[0;32m~/miniconda3/envs/webdev/lib/python3.12/site-packages/vercel_storage/blob.py:43\u001b[0m, in \u001b[0;36m_handle_response\u001b[0;34m(response)\u001b[0m\n\u001b[1;32m     41\u001b[0m \u001b[39mif\u001b[39;00m \u001b[39mstr\u001b[39m(response\u001b[39m.\u001b[39mstatus_code) \u001b[39m==\u001b[39m \u001b[39m\"\u001b[39m\u001b[39m200\u001b[39m\u001b[39m\"\u001b[39m:\n\u001b[1;32m     42\u001b[0m     \u001b[39mreturn\u001b[39;00m response\u001b[39m.\u001b[39mjson()\n\u001b[0;32m---> 43\u001b[0m \u001b[39mraise\u001b[39;00m APIResponseError(\u001b[39mf\u001b[39m\u001b[39m\"\u001b[39m\u001b[39mOops, something went wrong: \u001b[39m\u001b[39m{\u001b[39;00mresponse\u001b[39m.\u001b[39mjson()\u001b[39m}\u001b[39;00m\u001b[39m\"\u001b[39m)\n",
      "\u001b[0;31mAPIResponseError\u001b[0m: Oops, something went wrong: {'error': {'code': 'bad_request', 'message': 'Url is malformed'}}"
     ]
    }
   ],
   "source": [
    "blob.head(\"dummy-WJmLqffPskgBoCJxTqht0DYdTVSK8L.txt\", options =o)"
   ]
  }
 ],
 "metadata": {
  "kernelspec": {
   "display_name": "webdev",
   "language": "python",
   "name": "python3"
  },
  "language_info": {
   "codemirror_mode": {
    "name": "ipython",
    "version": 3
   },
   "file_extension": ".py",
   "mimetype": "text/x-python",
   "name": "python",
   "nbconvert_exporter": "python",
   "pygments_lexer": "ipython3",
   "version": "3.12.0"
  }
 },
 "nbformat": 4,
 "nbformat_minor": 2
}
